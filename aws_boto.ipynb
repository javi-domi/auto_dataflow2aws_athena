{
 "cells": [
  {
   "cell_type": "code",
   "execution_count": 22,
   "metadata": {},
   "outputs": [],
   "source": [
    "import boto3\n",
    "import pandas as pd"
   ]
  },
  {
   "cell_type": "code",
   "execution_count": 43,
   "metadata": {},
   "outputs": [
    {
     "name": "stdout",
     "output_type": "stream",
     "text": [
      "{'QueryExecutionId': 'f6784bc5-3d86-49b5-95da-042e11577778', 'Query': 'SELECT * FROM data_medalhas', 'StatementType': 'DML', 'ResultConfiguration': {'OutputLocation': 's3://1sti-query-results/f6784bc5-3d86-49b5-95da-042e11577778.csv'}, 'QueryExecutionContext': {'Database': '1sti'}, 'Status': {'State': 'QUEUED', 'SubmissionDateTime': datetime.datetime(2022, 8, 15, 15, 57, 24, 446000, tzinfo=tzlocal())}, 'Statistics': {'TotalExecutionTimeInMillis': 209, 'QueryQueueTimeInMillis': 209}, 'WorkGroup': 'primary', 'EngineVersion': {'SelectedEngineVersion': 'AUTO', 'EffectiveEngineVersion': 'Athena engine version 2'}}\n",
      "Reading dataframe from datalake\n"
     ]
    }
   ],
   "source": [
    "AWS_ACCESS_KEY_ID = 'aws_access_key_id'\n",
    "AWS_SECRET_ACCESS_KEY = 'aws_secret_access_key'\n",
    "\n",
    "athena_client = boto3.client(\n",
    "                'athena',\n",
    "                # aws_access_key_id='AWS_ACCESS_KEY_ID',\n",
    "                # aws_secret_access_key='AWS_SECRET_ACCESS_KEY',\n",
    "                region_name='us-east-1'\n",
    "        )\n",
    "\n",
    "\n",
    "query_start = athena_client.start_query_execution(\n",
    "            QueryString='SELECT * FROM data_medalhas',\n",
    "            QueryExecutionContext={\n",
    "                'Database': '1sti'\n",
    "            },\n",
    "            ResultConfiguration={'OutputLocation': 's3://1sti-query-results/'}\n",
    ")\n",
    "\n",
    "execution_result = athena_client.get_query_execution(\n",
    "            QueryExecutionId=query_start['QueryExecutionId'],\n",
    ")\n",
    "\n",
    "print(execution_result['QueryExecution'])\n",
    "\n",
    "# status = execution_result['QueryExecution']['Status']['State']\n",
    "# print(status)\n",
    "\n",
    "# if status != 'QUEUED':\n",
    "#     results = athena_client.get_query_results(\n",
    "#         QueryExecutionId=execution_result['QueryExecutionId'],\n",
    "#         MaxResults=10\n",
    "#     )\n",
    "# print(results[''])\n",
    "# df = pd.read_parquet(results)\n",
    "# print(df.describe())\n",
    "print('Reading dataframe from datalake')"
   ]
  },
  {
   "cell_type": "code",
   "execution_count": null,
   "metadata": {},
   "outputs": [],
   "source": []
  }
 ],
 "metadata": {
  "kernelspec": {
   "display_name": "Python 3.9.12 ('base')",
   "language": "python",
   "name": "python3"
  },
  "language_info": {
   "codemirror_mode": {
    "name": "ipython",
    "version": 3
   },
   "file_extension": ".py",
   "mimetype": "text/x-python",
   "name": "python",
   "nbconvert_exporter": "python",
   "pygments_lexer": "ipython3",
   "version": "3.9.12"
  },
  "orig_nbformat": 4,
  "vscode": {
   "interpreter": {
    "hash": "ef9976fb54af8ee8df79066cc870653b1489938a47ac38ebc1c5562e362a13ad"
   }
  }
 },
 "nbformat": 4,
 "nbformat_minor": 2
}
